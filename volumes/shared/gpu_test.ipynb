{
 "cells": [
  {
   "cell_type": "code",
   "execution_count": 1,
   "id": "3af209dc-cc4e-4bc5-b3a8-f3c7980a54c8",
   "metadata": {
    "tags": []
   },
   "outputs": [],
   "source": [
    "import torch"
   ]
  },
  {
   "cell_type": "code",
   "execution_count": 7,
   "id": "63847f19-b978-4e28-8052-ebe9c1d0ce55",
   "metadata": {
    "tags": []
   },
   "outputs": [
    {
     "name": "stdout",
     "output_type": "stream",
     "text": [
      "1.  NVIDIA GeForce RTX 3080\n",
      "Memory allocated:  0.0 GB\n",
      "Memory cached:     0.0 GB\n",
      "2.  NVIDIA GeForce RTX 3080\n",
      "Memory allocated:  0.0 GB\n",
      "Memory cached:     0.0 GB\n"
     ]
    }
   ],
   "source": [
    "if (torch.cuda.is_available()):\n",
    "    for x in range(0, torch.cuda.device_count()):\n",
    "        print(f\"{x+1}. \", torch.cuda.get_device_name(x))\n",
    "        print(\"Memory allocated: \", round(torch.cuda.memory_allocated(x)/1024**3,1), 'GB')\n",
    "        print(\"Memory cached:    \", round(torch.cuda.memory_reserved(x)/1024**3,1), 'GB')"
   ]
  },
  {
   "cell_type": "code",
   "execution_count": null,
   "id": "e961af1f-36a3-4fc9-9600-5061ed20e18a",
   "metadata": {},
   "outputs": [],
   "source": []
  }
 ],
 "metadata": {
  "kernelspec": {
   "display_name": "Python 3 (ipykernel)",
   "language": "python",
   "name": "python3"
  },
  "language_info": {
   "codemirror_mode": {
    "name": "ipython",
    "version": 3
   },
   "file_extension": ".py",
   "mimetype": "text/x-python",
   "name": "python",
   "nbconvert_exporter": "python",
   "pygments_lexer": "ipython3",
   "version": "3.10.10"
  }
 },
 "nbformat": 4,
 "nbformat_minor": 5
}
